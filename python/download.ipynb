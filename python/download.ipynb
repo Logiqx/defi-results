{
 "cells": [
  {
   "cell_type": "markdown",
   "id": "c6154355",
   "metadata": {},
   "source": [
    "# Defi Wind - Results Download\n",
    "\n",
    "Copyright 2024 Michael George (AKA Logiqx).\n",
    "\n",
    "This file is part of [defi-results](https://github.com/Logiqx/defi-results) and is distributed under the terms of the GNU General Public License.\n",
    "\n",
    "defi-results is free software: you can redistribute it and/or modify it under the terms of the GNU General Public License as published by the Free Software Foundation, either version 3 of the License, or (at your option) any later version.\n",
    "\n",
    "sse-results is distributed in the hope that it will be useful, but WITHOUT ANY WARRANTY; without even the implied warranty of MERCHANTABILITY or FITNESS FOR A PARTICULAR PURPOSE. See the GNU General Public License for more details.\n",
    "\n",
    "You should have received a copy of the GNU General Public License along with sse-results. If not, see <https://www.gnu.org/licenses/>."
   ]
  },
  {
   "cell_type": "code",
   "execution_count": 1,
   "id": "49b1d6e8",
   "metadata": {},
   "outputs": [],
   "source": [
    "import os\n",
    "import sys\n",
    "import json\n",
    "\n",
    "import urllib.request\n",
    "\n",
    "import unicodedata\n",
    "import re"
   ]
  },
  {
   "cell_type": "code",
   "execution_count": 2,
   "id": "086f118c",
   "metadata": {},
   "outputs": [],
   "source": [
    "projdir = os.path.realpath(os.path.join(sys.path[0], '..'))"
   ]
  },
  {
   "cell_type": "code",
   "execution_count": 3,
   "id": "4cdcda4d",
   "metadata": {},
   "outputs": [],
   "source": [
    "CONFIG_DIR = 'config'\n",
    "\n",
    "EVENTS_CONFIG = 'events.json'"
   ]
  },
  {
   "cell_type": "code",
   "execution_count": 4,
   "id": "5005a821",
   "metadata": {},
   "outputs": [],
   "source": [
    "if __name__ == '__main__':\n",
    "    filename = os.path.join(projdir, CONFIG_DIR, EVENTS_CONFIG)\n",
    "    with open(filename, 'r', encoding='utf-8') as f:\n",
    "        jsonTxt = f.read()\n",
    "        events = json.loads(jsonTxt)"
   ]
  },
  {
   "cell_type": "code",
   "execution_count": 5,
   "id": "1ad8be69",
   "metadata": {},
   "outputs": [],
   "source": [
    "def slugify(value):\n",
    "    \"\"\"\n",
    "    Taken from https://github.com/django/django/blob/master/django/utils/text.py\n",
    "    Convert to ASCII if 'allow_unicode' is False. Convert spaces or repeated\n",
    "    dashes to single dashes. Remove characters that aren't alphanumerics,\n",
    "    underscores, or hyphens. Convert to lowercase. Also strip leading and\n",
    "    trailing whitespace, dashes, and underscores.\n",
    "    \"\"\"\n",
    "    value = str(value)\n",
    "    value = unicodedata.normalize('NFKD', value).encode('ascii', 'ignore').decode('ascii')\n",
    "    value = re.sub(r'[^\\w\\s-]', '', value.lower())\n",
    "    return re.sub(r'[-\\s]+', '-', value).strip('-_')"
   ]
  },
  {
   "cell_type": "code",
   "execution_count": 6,
   "id": "cd86acf1",
   "metadata": {},
   "outputs": [],
   "source": [
    "DATA_DIR = 'data'\n",
    "JSON_DIR = 'json'\n",
    "CSV_DIR = 'csv'\n",
    "\n",
    "EVENT_NAME = 'name'\n",
    "EVENT_FIELDS = 'fields'\n",
    "EVENT_RACES = 'races'\n",
    "\n",
    "RACE_NAME = 'name'\n",
    "RACE_URL = 'url'\n",
    "\n",
    "RESULTS_LIST = 'list'\n",
    "RESULTS_FIELDS = 'Fields'\n",
    "RESULTS_DATA = 'data'\n",
    "\n",
    "FIELD_LABEL = 'Label'"
   ]
  },
  {
   "cell_type": "code",
   "execution_count": 7,
   "id": "d3624852",
   "metadata": {},
   "outputs": [
    {
     "name": "stdout",
     "output_type": "stream",
     "text": [
      "Downloading Défi Wind 2022 - Race 1...\n",
      "[['1.', '192', 'ALBEAU, Antoine', '[img:flags/FR.gif]', 'M (1)', '40-49M (1)', '00:33:00', '0,7']]\n",
      "Downloading Défi Wind 2022 - Race 2...\n",
      "[['1.', '465', 'GOYARD, Nicolas', '[img:flags/FR.gif]', 'M (1)', '20-29M (1)', '00:32:11', '0,7']]\n",
      "Downloading Défi Wind 2022 - Race 3...\n",
      "[['1.', '465', 'GOYARD, Nicolas', '[img:flags/FR.gif]', 'M (1)', '20-29M (1)', '00:31:22', '0,7']]\n",
      "Downloading Défi Wind 2022 - Race 4...\n",
      "[['1.', '465', 'GOYARD, Nicolas', '[img:flags/FR.gif]', 'M (1)', '20-29M (1)', '00:34:24', '0,7']]\n",
      "Downloading Défi Wind 2022 - Race 5...\n",
      "[['1.', '465', 'GOYARD, Nicolas', '[img:flags/FR.gif]', 'M (1)', '20-29M (1)', '', '0,7']]\n",
      "Downloading Défi Wind 2023 - Race 1...\n",
      "[['1.', '#465', 'GOYARD, NICOLAS', '[img:https://chronoconsult.fr/resultat/flags/fr_black.png]', 'M (1)', 'Foil (1)', '20-39M (1)', '00:32:19']]\n",
      "Downloading Défi Wind 2023 - Race 2...\n",
      "[['1.', '#465', 'GOYARD, NICOLAS', '[img:https://chronoconsult.fr/resultat/flags/fr_black.png]', 'M (1)', 'Foil (1)', '20-39M (1)', '00:30:35']]\n",
      "Downloading Défi Wind 2023 - Race 3...\n",
      "[['1.', '#465', 'GOYARD, NICOLAS', '[img:flags/FR.gif]', 'M (1)', 'Foil (1)', '20-39M (1)', '00:30:50']]\n",
      "Downloading Défi Wind 2023 - Race 4...\n",
      "[['1.', '#37', 'SØE, JOHAN', '[img:flags/DK.gif]', 'M (1)', 'Libre (1)', 'U20M (1)', '00:31:18']]\n",
      "All done!\n"
     ]
    }
   ],
   "source": [
    "def getFieldPositions(event, results):\n",
    "    '''Get field positions from results'''\n",
    "    \n",
    "    positions = []\n",
    "\n",
    "    # Nationality is sometimes blank\n",
    "    labels = [field[FIELD_LABEL] or 'Nat.' for field in results[RESULTS_LIST][RESULTS_FIELDS]]\n",
    "\n",
    "    # Determine index of all fields\n",
    "    for field, aliases in event[EVENT_FIELDS].items():\n",
    "        position = None\n",
    "\n",
    "        for alias in aliases:\n",
    "            if alias in labels:\n",
    "                position = labels.index(alias)\n",
    "                break\n",
    "                \n",
    "        positions.append(position)\n",
    "\n",
    "    return positions\n",
    "\n",
    "\n",
    "def getData(event, results, fieldPositions):\n",
    "    '''Get data from results'''\n",
    "      \n",
    "    data = []\n",
    "    \n",
    "    for result in results[RESULTS_DATA]:\n",
    "        # Defi Wind 2022 (run 5) has tally as the first field and place as the second field\n",
    "        if result[0] != result[2].replace('#', ''):\n",
    "            offset = 2\n",
    "        else:\n",
    "            offset = 1\n",
    "\n",
    "        record = []\n",
    "        for idx in fieldPositions:\n",
    "            if idx is not None:\n",
    "                record.append(result[idx + offset])\n",
    "            else:\n",
    "                record.append('')\n",
    "\n",
    "        data.append(record)\n",
    "\n",
    "    print(data[:1])\n",
    "    return data\n",
    "        \n",
    "\n",
    "def processEvent(event):\n",
    "    '''Process single event'''\n",
    "\n",
    "    jsonPath = os.path.join(projdir, DATA_DIR, JSON_DIR, slugify(event[EVENT_NAME]))    \n",
    "    \n",
    "    if not os.path.exists(jsonPath):\n",
    "        os.makedirs(jsonPath)\n",
    "            \n",
    "    for race in event[EVENT_RACES]:\n",
    "        slug = slugify(race[RACE_NAME]) + '.json'\n",
    "        fn = os.path.join(jsonPath, slug)\n",
    "        \n",
    "        print(f'Downloading {event[EVENT_NAME]} - {race[RACE_NAME]}...')\n",
    "\n",
    "        with urllib.request.urlopen(race[RACE_URL]) as f:\n",
    "            jsonTxt = f.read().decode('utf-8')\n",
    "            results = json.loads(jsonTxt)\n",
    "            jsonTxt = json.dumps(results, indent=2)\n",
    "\n",
    "        fieldPositions = getFieldPositions(event, results)\n",
    "        data = getData(event, results, fieldPositions)\n",
    "\n",
    "        #with open(fn, 'w') as f:\n",
    "            #f.write(jsonTxt)\n",
    "\n",
    "\n",
    "for event in events:\n",
    "    processEvent(event)\n",
    "\n",
    "print('All done!')"
   ]
  },
  {
   "cell_type": "code",
   "execution_count": null,
   "id": "077891ff",
   "metadata": {},
   "outputs": [],
   "source": []
  }
 ],
 "metadata": {
  "kernelspec": {
   "display_name": "Python 3 (ipykernel)",
   "language": "python",
   "name": "python3"
  },
  "language_info": {
   "codemirror_mode": {
    "name": "ipython",
    "version": 3
   },
   "file_extension": ".py",
   "mimetype": "text/x-python",
   "name": "python",
   "nbconvert_exporter": "python",
   "pygments_lexer": "ipython3",
   "version": "3.9.7"
  }
 },
 "nbformat": 4,
 "nbformat_minor": 5
}
